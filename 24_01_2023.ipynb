{
  "nbformat": 4,
  "nbformat_minor": 0,
  "metadata": {
    "colab": {
      "provenance": [],
      "authorship_tag": "ABX9TyNfLGsPlg+hj6073b1NNC5C",
      "include_colab_link": true
    },
    "kernelspec": {
      "name": "python3",
      "display_name": "Python 3"
    },
    "language_info": {
      "name": "python"
    }
  },
  "cells": [
    {
      "cell_type": "markdown",
      "metadata": {
        "id": "view-in-github",
        "colab_type": "text"
      },
      "source": [
        "<a href=\"https://colab.research.google.com/github/ranipuja235/pujarani-sethy_2001206021_aiml/blob/main/24_01_2023.ipynb\" target=\"_parent\"><img src=\"https://colab.research.google.com/assets/colab-badge.svg\" alt=\"Open In Colab\"/></a>"
      ]
    },
    {
      "cell_type": "code",
      "execution_count": null,
      "metadata": {
        "colab": {
          "base_uri": "https://localhost:8080/"
        },
        "id": "lWpFvX9W3Tuh",
        "outputId": "061e3aff-96ba-4033-87ec-25ed488d5313"
      },
      "outputs": [
        {
          "output_type": "stream",
          "name": "stdout",
          "text": [
            "reversed number :  4321\n"
          ]
        }
      ],
      "source": [
        "num=1234\n",
        "reversed_num=0\n",
        "while num !=0:\n",
        "  digit=num % 10\n",
        "  reversed_num=reversed_num *10 + digit\n",
        "  num //=10\n",
        "print(\"reversed number :  \" + str(reversed_num))"
      ]
    },
    {
      "cell_type": "markdown",
      "source": [
        "#using Bitwise operator"
      ],
      "metadata": {
        "id": "Y89wv4mj8frO"
      }
    },
    {
      "cell_type": "code",
      "source": [
        "def add(x,y):\n",
        "  while (y != 0):\n",
        "   carry=x & y\n",
        "   x=x^y\n",
        "   y=carry << 1\n",
        "  return x\n",
        "print(add(27,5))"
      ],
      "metadata": {
        "colab": {
          "base_uri": "https://localhost:8080/"
        },
        "id": "ZW9-nGmi8p6q",
        "outputId": "d0808e89-4284-4798-8b2a-b527edb7eb72"
      },
      "execution_count": null,
      "outputs": [
        {
          "output_type": "stream",
          "name": "stdout",
          "text": [
            "32\n"
          ]
        }
      ]
    },
    {
      "cell_type": "markdown",
      "source": [
        "#using if statement whether number is even or not"
      ],
      "metadata": {
        "id": "C5Tcl1gTAfgm"
      }
    },
    {
      "cell_type": "code",
      "source": [
        "num=int(input(\"enter the number\"))\n",
        "if num % 2==0:\n",
        "  print(\"number is even\")"
      ],
      "metadata": {
        "colab": {
          "base_uri": "https://localhost:8080/"
        },
        "id": "5t0Wb7fbA3wE",
        "outputId": "8bb6849f-ba98-4fe1-8e0d-3e3ac5a513ff"
      },
      "execution_count": null,
      "outputs": [
        {
          "output_type": "stream",
          "name": "stdout",
          "text": [
            "enter the number10\n",
            "number is even\n"
          ]
        }
      ]
    },
    {
      "cell_type": "markdown",
      "source": [
        "#using if-else statement whether a number is even or not"
      ],
      "metadata": {
        "id": "ji-9Iu4NBtlq"
      }
    },
    {
      "cell_type": "code",
      "source": [
        "num=int(input(\"enter any number to text whether it is odd or even:\"))\n",
        "if(num % 2)==0:\n",
        "  print(\"the number is even\")\n",
        "else:\n",
        "  print(\"the provided number is odd\")"
      ],
      "metadata": {
        "colab": {
          "base_uri": "https://localhost:8080/"
        },
        "id": "uDs19ycDB98n",
        "outputId": "a91e63ef-a88e-47e3-86c0-ad419b762f18"
      },
      "execution_count": null,
      "outputs": [
        {
          "output_type": "stream",
          "name": "stdout",
          "text": [
            "enter any number to text whether it is odd or even:232\n",
            "the number is even\n"
          ]
        }
      ]
    },
    {
      "cell_type": "markdown",
      "source": [
        "#using nested if find biggest of three numbers\n",
        " "
      ],
      "metadata": {
        "id": "qHlXm-ppDLC5"
      }
    },
    {
      "cell_type": "code",
      "source": [
        "a=5\n",
        "b=10\n",
        "c=15\n",
        "if a>b:\n",
        "  if a>c:\n",
        "    print(\"a value is big\")\n",
        "  else:\n",
        "    print(\"c value is big\")\n",
        "elif b>c:\n",
        "  print(\"b value is big\")\n",
        "else:\n",
        "  print(\"c is big\")"
      ],
      "metadata": {
        "colab": {
          "base_uri": "https://localhost:8080/"
        },
        "id": "M1JnuYl1DgdO",
        "outputId": "f782dc19-c7de-41b3-adfa-bec17ca48cab"
      },
      "execution_count": null,
      "outputs": [
        {
          "output_type": "stream",
          "name": "stdout",
          "text": [
            "c is big\n"
          ]
        }
      ]
    },
    {
      "cell_type": "markdown",
      "source": [
        "# #input radius finds AREA OF CIRCLE and PERIMETER OF TE CIRCLE"
      ],
      "metadata": {
        "id": "FryliE3nzUpM"
      }
    },
    {
      "cell_type": "code",
      "source": [
        "pi=3.14\n",
        "r=float(input(\"Enter radius of the circle:\"))\n",
        "area=(pi*r*r)\n",
        "perimeter=(2*pi*r)\n",
        "print(\"the area of circle is area\",area)\n",
        "print(\"the perimeter of circle is\",perimeter)"
      ],
      "metadata": {
        "colab": {
          "base_uri": "https://localhost:8080/"
        },
        "id": "KEE0sO5Rz_La",
        "outputId": "5b672fac-99b3-427a-c282-f3270dde438e"
      },
      "execution_count": null,
      "outputs": [
        {
          "output_type": "stream",
          "name": "stdout",
          "text": [
            "Enter radius of the circle:3\n",
            "the area of circle is area 28.259999999999998\n",
            "the perimeter of circle is 18.84\n"
          ]
        }
      ]
    },
    {
      "cell_type": "markdown",
      "source": [
        "#input kilometer converts to centimeter,meter,and millimeter.\n",
        "\n"
      ],
      "metadata": {
        "id": "PIXajDYf2PqT"
      }
    },
    {
      "cell_type": "code",
      "source": [
        "kilometers=float(input(\"please enter the kilometers=\"))\n",
        "meter=kilometers*1000\n",
        "centimeter=kilometers*10000\n",
        "millimeter=kilometers*1000000\n",
        "print(\"%.2f kilometers=%.2f meters\"%(kilometers,meter))\n",
        "print(\"%.2f kilometers=%.2f centimeters\"%(kilometers,centimeter))\n",
        "print(\"%.2f kilometers=%.2f millimeters\"%(kilometers,millimeter))"
      ],
      "metadata": {
        "colab": {
          "base_uri": "https://localhost:8080/"
        },
        "id": "OXmguS432j7u",
        "outputId": "d279ba2a-107c-492a-a39a-0c22037470de"
      },
      "execution_count": null,
      "outputs": [
        {
          "output_type": "stream",
          "name": "stdout",
          "text": [
            "please enter the kilometers=4.5\n",
            "4.50 kilometers=4500.00 meters\n",
            "4.50 kilometers=45000.00 centimeters\n",
            "4.50 kilometers=4500000.00 millimeters\n"
          ]
        }
      ]
    },
    {
      "cell_type": "markdown",
      "source": [
        "# input two numbers find remainder without '%'.\n"
      ],
      "metadata": {
        "id": "tbWWDPYs5L-4"
      }
    },
    {
      "cell_type": "code",
      "source": [
        "def reminder(num,d):\n",
        "  if num==0:\n",
        "    return 0\n",
        "  elif d==0:\n",
        "    return -1\n",
        "  while num>=d:\n",
        "    num=num-d\n",
        "  return num\n",
        "print(reminder(15,2))"
      ],
      "metadata": {
        "colab": {
          "base_uri": "https://localhost:8080/"
        },
        "id": "V6Rltgo15Y_J",
        "outputId": "1a20f4f0-7d69-459c-f558-7d60afadc7bb"
      },
      "execution_count": null,
      "outputs": [
        {
          "output_type": "stream",
          "name": "stdout",
          "text": [
            "1\n"
          ]
        }
      ]
    },
    {
      "cell_type": "markdown",
      "source": [
        "#input temperature find celsius to fahrenheit.\n",
        "fahrenheit=(celsius*9/5)+32"
      ],
      "metadata": {
        "id": "eHQTA5ih6_mX"
      }
    },
    {
      "cell_type": "code",
      "source": [
        "celsius =float(input(\"enter temperature in celsius:\"))\n",
        "fahrenheit=(celsius*9/5)+32\n",
        "print('%.2f celsius is:%0.2f fahrenheit'%(celsius,fahrenheit))"
      ],
      "metadata": {
        "colab": {
          "base_uri": "https://localhost:8080/"
        },
        "id": "Nbu4AVBj9FnW",
        "outputId": "764e0a71-ef07-43c3-848e-f12743e9381a"
      },
      "execution_count": null,
      "outputs": [
        {
          "output_type": "stream",
          "name": "stdout",
          "text": [
            "enter temperature in celsius:37\n",
            "37.00 celsius is:98.60 fahrenheit\n"
          ]
        }
      ]
    },
    {
      "cell_type": "markdown",
      "source": [
        "# input temperature find fahrenheit to celsius.\n",
        "celsius=(fahrenheit-32)*5/9"
      ],
      "metadata": {
        "id": "KP_Yzp3c99S9"
      }
    },
    {
      "cell_type": "code",
      "source": [
        "fahrenheit=float(input(\"enter temperature in fahrenheit:\"))\n",
        "celsius=(fahrenheit-32)*5/9\n",
        "print('%.2f fahrenheit is:%0.2f celsius'%(fahrenheit,celsius))"
      ],
      "metadata": {
        "colab": {
          "base_uri": "https://localhost:8080/"
        },
        "id": "OVkBXAoW-h21",
        "outputId": "1f24cab3-0810-4ed1-90cc-efc5e11882d6"
      },
      "execution_count": null,
      "outputs": [
        {
          "output_type": "stream",
          "name": "stdout",
          "text": [
            "enter temperature in fahrenheit:99\n",
            "99.00 fahrenheit is:37.22 celsius\n"
          ]
        }
      ]
    },
    {
      "cell_type": "markdown",
      "source": [
        "# input a number finds reverse number without looping structure"
      ],
      "metadata": {
        "id": "jwiyJO_UIsSJ"
      }
    },
    {
      "cell_type": "code",
      "source": [
        "num=97402\n",
        "num_string=str(num)\n",
        "size=len(num_string)\n",
        "reversed_num=num_string[size::-1]\n",
        "print(\"reversed number is:\"+reversed_num)"
      ],
      "metadata": {
        "colab": {
          "base_uri": "https://localhost:8080/"
        },
        "id": "9AQV_upzI3sR",
        "outputId": "d4bf8ab4-ed7e-493f-c546-1cf8536ae03e"
      },
      "execution_count": null,
      "outputs": [
        {
          "output_type": "stream",
          "name": "stdout",
          "text": [
            "reversed number is:20479\n"
          ]
        }
      ]
    },
    {
      "cell_type": "code",
      "source": [
        "#write a program to reverse an integer in python using if\n",
        "num = int(input(\"Enter the number: \"))  \n",
        "revr_num = 0      \n",
        "def recur_reverse(num):  \n",
        "    global revr_num  \n",
        "    if (num > 0):  \n",
        "        Reminder = num % 10  \n",
        "        revr_num = (revr_num * 10) + Reminder  \n",
        "        recur_reverse(num // 10)  \n",
        "    return revr_num  \n",
        "revr_num = recur_reverse(num)  \n",
        "print(\"entered the reverse number is = %d\" % revr_num)  \n"
      ],
      "metadata": {
        "colab": {
          "base_uri": "https://localhost:8080/"
        },
        "id": "lbuai8J1MHVX",
        "outputId": "ddcfb423-c418-4f1f-862b-33b7f5755df9"
      },
      "execution_count": null,
      "outputs": [
        {
          "output_type": "stream",
          "name": "stdout",
          "text": [
            "Enter the number: 3456\n",
            "entered the reverse number is = 6543\n"
          ]
        }
      ]
    },
    {
      "cell_type": "code",
      "source": [
        "#using while loop\n",
        "num = 1234\n",
        "reversed_num = 0\n",
        "\n",
        "while num != 0:\n",
        "    digit = num % 10\n",
        "    reversed_num = reversed_num * 10 + digit\n",
        "    num //= 10\n",
        "\n",
        "print(\"Reversed Number: \" + str(reversed_num))"
      ],
      "metadata": {
        "colab": {
          "base_uri": "https://localhost:8080/"
        },
        "id": "awspKsEnXkg2",
        "outputId": "db0a4385-1c5a-48f7-a2dc-21d789de6800"
      },
      "execution_count": null,
      "outputs": [
        {
          "output_type": "stream",
          "name": "stdout",
          "text": [
            "Reversed Number: 4321\n"
          ]
        }
      ]
    },
    {
      "cell_type": "code",
      "source": [
        "#program to number pyramid\n",
        "rows=int(input(\"enter the rows\"))\n",
        "for i in range(0,rows+1):\n",
        "  for j in range(i):\n",
        "    print(i,end=\" \")\n",
        "  print()"
      ],
      "metadata": {
        "colab": {
          "base_uri": "https://localhost:8080/"
        },
        "id": "0A0tuNOzBb9W",
        "outputId": "c4c66e5c-3a50-41c1-f707-d5fcb0b25180"
      },
      "execution_count": null,
      "outputs": [
        {
          "output_type": "stream",
          "name": "stdout",
          "text": [
            "enter the rows5\n",
            "\n",
            "1 \n",
            "2 2 \n",
            "3 3 3 \n",
            "4 4 4 4 \n",
            "5 5 5 5 5 \n"
          ]
        }
      ]
    },
    {
      "cell_type": "code",
      "source": [
        "rows=int(input(\"enter the rows\"))\n",
        "for i in range(rows, 0, -1):\n",
        "  for j in range(1,i+1):\n",
        "    print(i,end=\" \")\n",
        "  print()"
      ],
      "metadata": {
        "colab": {
          "base_uri": "https://localhost:8080/"
        },
        "id": "lcrFiIhdDf1a",
        "outputId": "f8ad7eb8-a807-46e4-c74a-827e758691b4"
      },
      "execution_count": null,
      "outputs": [
        {
          "output_type": "stream",
          "name": "stdout",
          "text": [
            "enter the rows5\n",
            "5 5 5 5 5 \n",
            "4 4 4 4 \n",
            "3 3 3 \n",
            "2 2 \n",
            "1 \n"
          ]
        }
      ]
    },
    {
      "cell_type": "code",
      "source": [
        "rows=int(input(\"enter number of rows\"))\n",
        "for i in range(0,rows-1):\n",
        "  for j in range(i):\n",
        "    print(i,end=\" \")\n",
        "  print()\n",
        "\n",
        "for i in range(rows,0,-1):\n",
        "  for j in range(1,i+1):\n",
        "    print(i, end=\" \")\n",
        "  print()"
      ],
      "metadata": {
        "colab": {
          "base_uri": "https://localhost:8080/"
        },
        "id": "FykXTFOdJXCP",
        "outputId": "d022af36-07a2-4f11-d47d-024d0805c960"
      },
      "execution_count": null,
      "outputs": [
        {
          "output_type": "stream",
          "name": "stdout",
          "text": [
            "enter number of rows5\n",
            "\n",
            "1 \n",
            "2 2 \n",
            "3 3 3 \n",
            "5 5 5 5 5 \n",
            "4 4 4 4 \n",
            "3 3 3 \n",
            "2 2 \n",
            "1 \n"
          ]
        }
      ]
    },
    {
      "cell_type": "code",
      "source": [
        "rows=int(input(\"enter the rows\"))\n",
        "for i in range(rows):\n",
        "  for j in range(i+1):\n",
        "    print(rows-j,end=\" \")\n",
        "  print()\n",
        "\n",
        "\n",
        "  "
      ],
      "metadata": {
        "id": "-ZF_DQinPigR",
        "colab": {
          "base_uri": "https://localhost:8080/"
        },
        "outputId": "db43bc8a-2960-4963-94b6-d59ec76fc264"
      },
      "execution_count": 38,
      "outputs": [
        {
          "output_type": "stream",
          "name": "stdout",
          "text": [
            "enter the rows5\n",
            "5 \n",
            "5 4 \n",
            "5 4 3 \n",
            "5 4 3 2 \n",
            "5 4 3 2 1 \n"
          ]
        }
      ]
    },
    {
      "cell_type": "code",
      "source": [
        "rows =int(input(\"enter the rows\"))\n",
        "for i in range(1, rows):\n",
        "    for j in range(i, 0, -1):\n",
        "        print(j, end=' ')\n",
        "    print(\"\")"
      ],
      "metadata": {
        "colab": {
          "base_uri": "https://localhost:8080/"
        },
        "id": "aa94AcjQiFsT",
        "outputId": "330707dd-7570-4fb8-c4a4-2d7df50dc384"
      },
      "execution_count": 28,
      "outputs": [
        {
          "output_type": "stream",
          "name": "stdout",
          "text": [
            "enter the rows6\n",
            "1 \n",
            "2 1 \n",
            "3 2 1 \n",
            "4 3 2 1 \n",
            "5 4 3 2 1 \n"
          ]
        }
      ]
    },
    {
      "cell_type": "code",
      "source": [
        "rows =int(input(\"enter the rows\"))\n",
        "for i in range(0, rows + 1):\n",
        "    for j in range(rows - i, 0, -1):\n",
        "        print(j, end=' ')\n",
        "    print()"
      ],
      "metadata": {
        "colab": {
          "base_uri": "https://localhost:8080/"
        },
        "id": "pqUc571qmNPW",
        "outputId": "fa1237e2-fe08-41b6-af64-c39d0f48ecbf"
      },
      "execution_count": 30,
      "outputs": [
        {
          "output_type": "stream",
          "name": "stdout",
          "text": [
            "enter the rows5\n",
            "5 4 3 2 1 \n",
            "4 3 2 1 \n",
            "3 2 1 \n",
            "2 1 \n",
            "1 \n",
            "\n"
          ]
        }
      ]
    },
    {
      "cell_type": "code",
      "source": [
        "rows =int(input(\"enter the rows\"))\n",
        "for i in range(1, rows):\n",
        "    for j in range(i, 0, -1):\n",
        "        print(j, end=' ')\n",
        "    print(\"\")\n",
        "for i in range(0, rows + 1):\n",
        "    for j in range(rows - i, 0, -1):\n",
        "        print(j, end=' ')\n",
        "    print(\"\")\n"
      ],
      "metadata": {
        "colab": {
          "base_uri": "https://localhost:8080/"
        },
        "id": "sN7jJcY2oG41",
        "outputId": "9675fb15-299d-4553-ba15-e1fa58f19dfb"
      },
      "execution_count": 40,
      "outputs": [
        {
          "output_type": "stream",
          "name": "stdout",
          "text": [
            "enter the rows5\n",
            "1 \n",
            "2 1 \n",
            "3 2 1 \n",
            "4 3 2 1 \n",
            "5 4 3 2 1 \n",
            "4 3 2 1 \n",
            "3 2 1 \n",
            "2 1 \n",
            "1 \n",
            "\n"
          ]
        }
      ]
    },
    {
      "cell_type": "code",
      "source": [
        "rows = int(input(\"Enter the rows: \"))\n",
        "\n",
        "for i in range(1,rows+1):\n",
        "    for j in range(1, i+1):\n",
        "        print(j%2, end=\"\")\n",
        "    print()"
      ],
      "metadata": {
        "colab": {
          "base_uri": "https://localhost:8080/"
        },
        "id": "NPh9Zyooqx6R",
        "outputId": "f2353444-2cf9-484c-fecb-04caa0d0a396"
      },
      "execution_count": 42,
      "outputs": [
        {
          "output_type": "stream",
          "name": "stdout",
          "text": [
            "Enter the rows: 5\n",
            "1\n",
            "10\n",
            "101\n",
            "1010\n",
            "10101\n"
          ]
        }
      ]
    },
    {
      "cell_type": "code",
      "source": [
        "#1,2,3..........n using for loop\n",
        "n=int(input(\"enter n =\"))\n",
        "for i in range(n):\n",
        "  print(i+1,end=' , ')"
      ],
      "metadata": {
        "colab": {
          "base_uri": "https://localhost:8080/"
        },
        "id": "d4dlKdtRrruD",
        "outputId": "851b134c-40d0-4a0b-c97c-31834f990f1a"
      },
      "execution_count": 44,
      "outputs": [
        {
          "output_type": "stream",
          "name": "stdout",
          "text": [
            "enter n =10\n",
            "1 , 2 , 3 , 4 , 5 , 6 , 7 , 8 , 9 , 10 , "
          ]
        }
      ]
    },
    {
      "cell_type": "code",
      "source": [
        "n=int(input(\"enter n =\"))\n",
        "i=0\n",
        "while i<=n:\n",
        "  print(i+1,end=' , ')\n",
        "  i=i+1"
      ],
      "metadata": {
        "colab": {
          "base_uri": "https://localhost:8080/"
        },
        "id": "GdqqeOZmvFtz",
        "outputId": "e7931c91-b5b7-484b-ecc3-cea6aa19dfe7"
      },
      "execution_count": 46,
      "outputs": [
        {
          "output_type": "stream",
          "name": "stdout",
          "text": [
            "enter n =10\n",
            "1 , 2 , 3 , 4 , 5 , 6 , 7 , 8 , 9 , 10 , 11 , "
          ]
        }
      ]
    }
  ]
}