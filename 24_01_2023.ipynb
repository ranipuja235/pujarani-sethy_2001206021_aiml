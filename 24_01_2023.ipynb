{
  "nbformat": 4,
  "nbformat_minor": 0,
  "metadata": {
    "colab": {
      "provenance": [],
      "authorship_tag": "ABX9TyPylhnE7v4ayf9EQYBZlvVU",
      "include_colab_link": true
    },
    "kernelspec": {
      "name": "python3",
      "display_name": "Python 3"
    },
    "language_info": {
      "name": "python"
    }
  },
  "cells": [
    {
      "cell_type": "markdown",
      "metadata": {
        "id": "view-in-github",
        "colab_type": "text"
      },
      "source": [
        "<a href=\"https://colab.research.google.com/github/ranipuja235/pujarani-sethy_2001206021_aiml/blob/main/24_01_2023.ipynb\" target=\"_parent\"><img src=\"https://colab.research.google.com/assets/colab-badge.svg\" alt=\"Open In Colab\"/></a>"
      ]
    },
    {
      "cell_type": "code",
      "execution_count": null,
      "metadata": {
        "colab": {
          "base_uri": "https://localhost:8080/"
        },
        "id": "lWpFvX9W3Tuh",
        "outputId": "061e3aff-96ba-4033-87ec-25ed488d5313"
      },
      "outputs": [
        {
          "output_type": "stream",
          "name": "stdout",
          "text": [
            "reversed number :  4321\n"
          ]
        }
      ],
      "source": [
        "num=1234\n",
        "reversed_num=0\n",
        "while num !=0:\n",
        "  digit=num % 10\n",
        "  reversed_num=reversed_num *10 + digit\n",
        "  num //=10\n",
        "print(\"reversed number :  \" + str(reversed_num))"
      ]
    },
    {
      "cell_type": "markdown",
      "source": [
        "#using Bitwise operator"
      ],
      "metadata": {
        "id": "Y89wv4mj8frO"
      }
    },
    {
      "cell_type": "code",
      "source": [
        "def add(x,y):\n",
        "  while (y != 0):\n",
        "   carry=x & y\n",
        "   x=x^y\n",
        "   y=carry << 1\n",
        "  return x\n",
        "print(add(27,5))"
      ],
      "metadata": {
        "colab": {
          "base_uri": "https://localhost:8080/"
        },
        "id": "ZW9-nGmi8p6q",
        "outputId": "d0808e89-4284-4798-8b2a-b527edb7eb72"
      },
      "execution_count": null,
      "outputs": [
        {
          "output_type": "stream",
          "name": "stdout",
          "text": [
            "32\n"
          ]
        }
      ]
    },
    {
      "cell_type": "markdown",
      "source": [
        "#using if statement whether number is even or not"
      ],
      "metadata": {
        "id": "C5Tcl1gTAfgm"
      }
    },
    {
      "cell_type": "code",
      "source": [
        "num=int(input(\"enter the number\"))\n",
        "if num % 2==0:\n",
        "  print(\"number is even\")"
      ],
      "metadata": {
        "colab": {
          "base_uri": "https://localhost:8080/"
        },
        "id": "5t0Wb7fbA3wE",
        "outputId": "8bb6849f-ba98-4fe1-8e0d-3e3ac5a513ff"
      },
      "execution_count": null,
      "outputs": [
        {
          "output_type": "stream",
          "name": "stdout",
          "text": [
            "enter the number10\n",
            "number is even\n"
          ]
        }
      ]
    },
    {
      "cell_type": "markdown",
      "source": [
        "#using if-else statement whether a number is even or not"
      ],
      "metadata": {
        "id": "ji-9Iu4NBtlq"
      }
    },
    {
      "cell_type": "code",
      "source": [
        "num=int(input(\"enter any number to text whether it is odd or even:\"))\n",
        "if(num % 2)==0:\n",
        "  print(\"the number is even\")\n",
        "else:\n",
        "  print(\"the provided number is odd\")"
      ],
      "metadata": {
        "colab": {
          "base_uri": "https://localhost:8080/"
        },
        "id": "uDs19ycDB98n",
        "outputId": "a91e63ef-a88e-47e3-86c0-ad419b762f18"
      },
      "execution_count": null,
      "outputs": [
        {
          "output_type": "stream",
          "name": "stdout",
          "text": [
            "enter any number to text whether it is odd or even:232\n",
            "the number is even\n"
          ]
        }
      ]
    },
    {
      "cell_type": "markdown",
      "source": [
        "#using nested if find biggest of three numbers\n",
        " "
      ],
      "metadata": {
        "id": "qHlXm-ppDLC5"
      }
    },
    {
      "cell_type": "code",
      "source": [
        "a=5\n",
        "b=10\n",
        "c=15\n",
        "if a>b:\n",
        "  if a>c:\n",
        "    print(\"a value is big\")\n",
        "  else:\n",
        "    print(\"c value is big\")\n",
        "elif b>c:\n",
        "  print(\"b value is big\")\n",
        "else:\n",
        "  print(\"c is big\")"
      ],
      "metadata": {
        "colab": {
          "base_uri": "https://localhost:8080/"
        },
        "id": "M1JnuYl1DgdO",
        "outputId": "f782dc19-c7de-41b3-adfa-bec17ca48cab"
      },
      "execution_count": null,
      "outputs": [
        {
          "output_type": "stream",
          "name": "stdout",
          "text": [
            "c is big\n"
          ]
        }
      ]
    },
    {
      "cell_type": "markdown",
      "source": [
        "# #input radius finds AREA OF CIRCLE and PERIMETER OF TE CIRCLE"
      ],
      "metadata": {
        "id": "FryliE3nzUpM"
      }
    },
    {
      "cell_type": "code",
      "source": [
        "pi=3.14\n",
        "r=float(input(\"Enter radius of the circle:\"))\n",
        "area=(pi*r*r)\n",
        "perimeter=(2*pi*r)\n",
        "print(\"the area of circle is area\",area)\n",
        "print(\"the perimeter of circle is\",perimeter)"
      ],
      "metadata": {
        "colab": {
          "base_uri": "https://localhost:8080/"
        },
        "id": "KEE0sO5Rz_La",
        "outputId": "5b672fac-99b3-427a-c282-f3270dde438e"
      },
      "execution_count": null,
      "outputs": [
        {
          "output_type": "stream",
          "name": "stdout",
          "text": [
            "Enter radius of the circle:3\n",
            "the area of circle is area 28.259999999999998\n",
            "the perimeter of circle is 18.84\n"
          ]
        }
      ]
    },
    {
      "cell_type": "markdown",
      "source": [
        "#input kilometer converts to centimeter,meter,and millimeter.\n",
        "\n"
      ],
      "metadata": {
        "id": "PIXajDYf2PqT"
      }
    },
    {
      "cell_type": "code",
      "source": [
        "kilometers=float(input(\"please enter the kilometers=\"))\n",
        "meter=kilometers*1000\n",
        "centimeter=kilometers*10000\n",
        "millimeter=kilometers*1000000\n",
        "print(\"%.2f kilometers=%.2f meters\"%(kilometers,meter))\n",
        "print(\"%.2f kilometers=%.2f centimeters\"%(kilometers,centimeter))\n",
        "print(\"%.2f kilometers=%.2f millimeters\"%(kilometers,millimeter))"
      ],
      "metadata": {
        "colab": {
          "base_uri": "https://localhost:8080/"
        },
        "id": "OXmguS432j7u",
        "outputId": "d279ba2a-107c-492a-a39a-0c22037470de"
      },
      "execution_count": null,
      "outputs": [
        {
          "output_type": "stream",
          "name": "stdout",
          "text": [
            "please enter the kilometers=4.5\n",
            "4.50 kilometers=4500.00 meters\n",
            "4.50 kilometers=45000.00 centimeters\n",
            "4.50 kilometers=4500000.00 millimeters\n"
          ]
        }
      ]
    },
    {
      "cell_type": "markdown",
      "source": [
        "# input two numbers find remainder without '%'.\n"
      ],
      "metadata": {
        "id": "tbWWDPYs5L-4"
      }
    },
    {
      "cell_type": "code",
      "source": [
        "def reminder(num,d):\n",
        "  if num==0:\n",
        "    return 0\n",
        "  elif d==0:\n",
        "    return -1\n",
        "  while num>=d:\n",
        "    num=num-d\n",
        "  return num\n",
        "print(reminder(15,2))"
      ],
      "metadata": {
        "colab": {
          "base_uri": "https://localhost:8080/"
        },
        "id": "V6Rltgo15Y_J",
        "outputId": "1a20f4f0-7d69-459c-f558-7d60afadc7bb"
      },
      "execution_count": null,
      "outputs": [
        {
          "output_type": "stream",
          "name": "stdout",
          "text": [
            "1\n"
          ]
        }
      ]
    },
    {
      "cell_type": "markdown",
      "source": [
        "#input temperature find celsius to fahrenheit.\n",
        "fahrenheit=(celsius*9/5)+32"
      ],
      "metadata": {
        "id": "eHQTA5ih6_mX"
      }
    },
    {
      "cell_type": "code",
      "source": [
        "celsius =float(input(\"enter temperature in celsius:\"))\n",
        "fahrenheit=(celsius*9/5)+32\n",
        "print('%.2f celsius is:%0.2f fahrenheit'%(celsius,fahrenheit))"
      ],
      "metadata": {
        "colab": {
          "base_uri": "https://localhost:8080/"
        },
        "id": "Nbu4AVBj9FnW",
        "outputId": "764e0a71-ef07-43c3-848e-f12743e9381a"
      },
      "execution_count": null,
      "outputs": [
        {
          "output_type": "stream",
          "name": "stdout",
          "text": [
            "enter temperature in celsius:37\n",
            "37.00 celsius is:98.60 fahrenheit\n"
          ]
        }
      ]
    },
    {
      "cell_type": "markdown",
      "source": [
        "# input temperature find fahrenheit to celsius.\n",
        "celsius=(fahrenheit-32)*5/9"
      ],
      "metadata": {
        "id": "KP_Yzp3c99S9"
      }
    },
    {
      "cell_type": "code",
      "source": [
        "fahrenheit=float(input(\"enter temperature in fahrenheit:\"))\n",
        "celsius=(fahrenheit-32)*5/9\n",
        "print('%.2f fahrenheit is:%0.2f celsius'%(fahrenheit,celsius))"
      ],
      "metadata": {
        "colab": {
          "base_uri": "https://localhost:8080/"
        },
        "id": "OVkBXAoW-h21",
        "outputId": "1f24cab3-0810-4ed1-90cc-efc5e11882d6"
      },
      "execution_count": null,
      "outputs": [
        {
          "output_type": "stream",
          "name": "stdout",
          "text": [
            "enter temperature in fahrenheit:99\n",
            "99.00 fahrenheit is:37.22 celsius\n"
          ]
        }
      ]
    },
    {
      "cell_type": "markdown",
      "source": [
        "# input a number finds reverse number without looping structure"
      ],
      "metadata": {
        "id": "jwiyJO_UIsSJ"
      }
    },
    {
      "cell_type": "code",
      "source": [
        "num=97402\n",
        "num_string=str(num)\n",
        "size=len(num_string)\n",
        "reversed_num=num_string[size::-1]\n",
        "print(\"reversed number is:\"+reversed_num)"
      ],
      "metadata": {
        "colab": {
          "base_uri": "https://localhost:8080/"
        },
        "id": "9AQV_upzI3sR",
        "outputId": "d4bf8ab4-ed7e-493f-c546-1cf8536ae03e"
      },
      "execution_count": null,
      "outputs": [
        {
          "output_type": "stream",
          "name": "stdout",
          "text": [
            "reversed number is:20479\n"
          ]
        }
      ]
    },
    {
      "cell_type": "code",
      "source": [
        "#write a program to reverse an integer in python using if\n",
        "num = int(input(\"Enter the number: \"))  \n",
        "revr_num = 0      \n",
        "def recur_reverse(num):  \n",
        "    global revr_num  \n",
        "    if (num > 0):  \n",
        "        Reminder = num % 10  \n",
        "        revr_num = (revr_num * 10) + Reminder  \n",
        "        recur_reverse(num // 10)  \n",
        "    return revr_num  \n",
        "revr_num = recur_reverse(num)  \n",
        "print(\"entered the reverse number is = %d\" % revr_num)  \n"
      ],
      "metadata": {
        "colab": {
          "base_uri": "https://localhost:8080/"
        },
        "id": "lbuai8J1MHVX",
        "outputId": "ddcfb423-c418-4f1f-862b-33b7f5755df9"
      },
      "execution_count": null,
      "outputs": [
        {
          "output_type": "stream",
          "name": "stdout",
          "text": [
            "Enter the number: 3456\n",
            "entered the reverse number is = 6543\n"
          ]
        }
      ]
    },
    {
      "cell_type": "code",
      "source": [
        "#using while loop\n",
        "num = 1234\n",
        "reversed_num = 0\n",
        "\n",
        "while num != 0:\n",
        "    digit = num % 10\n",
        "    reversed_num = reversed_num * 10 + digit\n",
        "    num //= 10\n",
        "\n",
        "print(\"Reversed Number: \" + str(reversed_num))"
      ],
      "metadata": {
        "colab": {
          "base_uri": "https://localhost:8080/"
        },
        "id": "awspKsEnXkg2",
        "outputId": "db0a4385-1c5a-48f7-a2dc-21d789de6800"
      },
      "execution_count": null,
      "outputs": [
        {
          "output_type": "stream",
          "name": "stdout",
          "text": [
            "Reversed Number: 4321\n"
          ]
        }
      ]
    },
    {
      "cell_type": "code",
      "source": [
        "#using armstrong number\n",
        "num=int(input(\"enter the number\"))\n",
        "sum=0\n",
        "num1=num\n",
        "while(num>0):\n",
        "  rem=num%10\n",
        "  sum=sum+rem*rem*rem\n",
        "  num=num//10\n",
        "if sum == num:\n",
        "  print(\"given number is armstrong\")\n",
        "else:\n",
        "  print(\"given number is not armstrong\")"
      ],
      "metadata": {
        "colab": {
          "base_uri": "https://localhost:8080/"
        },
        "id": "nDr8PyhPSKF-",
        "outputId": "0052e3f2-cc9a-48f6-e30b-485dbf388c9c"
      },
      "execution_count": 9,
      "outputs": [
        {
          "output_type": "stream",
          "name": "stdout",
          "text": [
            "enter the number153\n",
            "given number is not armstrong\n"
          ]
        }
      ]
    },
    {
      "cell_type": "code",
      "source": [
        "#check given number is prime or not\n",
        "num=int(input(\"enter the number\"))\n",
        "if num>1:\n",
        "  for i in range (2,num):\n",
        "    if(num % i)==0:\n",
        "      print(num,\"is not a prime number \")\n",
        "      break\n",
        "  else:\n",
        "    print(num,\"it is a prime number\")\n",
        "else:\n",
        "    print(num,\"it is not a prime number\")   "
      ],
      "metadata": {
        "colab": {
          "base_uri": "https://localhost:8080/"
        },
        "id": "b3TdS9CMSKCk",
        "outputId": "2e9f27e9-5424-4239-cb6d-baef2b760396"
      },
      "execution_count": 13,
      "outputs": [
        {
          "output_type": "stream",
          "name": "stdout",
          "text": [
            "enter the number65\n",
            "65 is not a prime number \n"
          ]
        }
      ]
    },
    {
      "cell_type": "code",
      "source": [
        "#fibonnaci series using itterative mathod\n",
        "first,second=0,1\n",
        "n = int(input(\"please give a number for fibonacci series : \"))\n",
        "print(\"fibonacci series are : \")\n",
        "for i in range(0,n):\n",
        "    if i<=1:\n",
        "        result=i\n",
        "    else:\n",
        "      result = first + second;\n",
        "      first = second;\n",
        "      second = result;\n",
        "    print(result)\n",
        " "
      ],
      "metadata": {
        "colab": {
          "base_uri": "https://localhost:8080/"
        },
        "id": "4d64F5d4VyiN",
        "outputId": "30523890-7361-477a-a794-a01549bd8815"
      },
      "execution_count": 14,
      "outputs": [
        {
          "output_type": "stream",
          "name": "stdout",
          "text": [
            "please give a number for fibonacci series : 5\n",
            "fibonacci series are : \n",
            "0\n",
            "1\n",
            "1\n",
            "2\n",
            "3\n"
          ]
        }
      ]
    },
    {
      "cell_type": "code",
      "source": [
        "#fibonnaci series using recursive  ethod\n",
        "def recur_fibo(n):  \n",
        "   if n <= 1:  \n",
        "       return n  \n",
        "   else:  \n",
        "       return(recur_fibo(n-1) + recur_fibo(n-2))  \n",
        "nterms = int(input(\"enter the number\"))   \n",
        "if nterms <= 0:  \n",
        "   print(\"Plese enter a positive integer\")  \n",
        "else:  \n",
        "   print(\"Fibonacci sequence:\")  \n",
        "   for i in range(nterms):  \n",
        "       print(recur_fibo(i))  \n",
        "\n"
      ],
      "metadata": {
        "colab": {
          "base_uri": "https://localhost:8080/"
        },
        "id": "kwFNOOB9Wxeh",
        "outputId": "1de4c603-a7d0-4c9f-9937-434b4395e5ad"
      },
      "execution_count": 16,
      "outputs": [
        {
          "output_type": "stream",
          "name": "stdout",
          "text": [
            "enter the number10\n",
            "Fibonacci sequence:\n",
            "0\n",
            "1\n",
            "1\n",
            "2\n",
            "3\n",
            "5\n",
            "8\n",
            "13\n",
            "21\n",
            "34\n"
          ]
        }
      ]
    },
    {
      "cell_type": "code",
      "source": [
        "#find palindrom or not using iterative mathod\n",
        "num=int(input(\"enter the number\"))\n",
        "sum=0\n",
        "num1=num\n",
        "while(num>0):\n",
        "  rem=num %10\n",
        "  sum=sum*10+rem\n",
        "  num=num//10\n",
        "if(sum==num):\n",
        "  print(\"the number is palidrom\")\n",
        "else:\n",
        "  print(\"the number is not palidrome\")\n"
      ],
      "metadata": {
        "colab": {
          "base_uri": "https://localhost:8080/"
        },
        "id": "-uHxf4LnXSKt",
        "outputId": "a34781b5-5b33-4d28-c69a-eda798bf20b0"
      },
      "execution_count": 18,
      "outputs": [
        {
          "output_type": "stream",
          "name": "stdout",
          "text": [
            "enter the number1331\n",
            "the number is not palidrome\n"
          ]
        }
      ]
    },
    {
      "cell_type": "code",
      "source": [
        "#find palindrome using recursive method\n",
        "def is_palindrome(s):\n",
        "    if len(s) < 1:\n",
        "        return True\n",
        "    else:\n",
        "        if s[0] == s[-1]:\n",
        "            return is_palindrome(s[1:-1])\n",
        "        else:\n",
        "            return False\n",
        "a=str(input(\"Enter string:\"))\n",
        "if(is_palindrome(a)==True):\n",
        "    print(\"it is a palindrome!\")\n",
        "else:\n",
        "    print(\"it is not a palindrome!\")"
      ],
      "metadata": {
        "colab": {
          "base_uri": "https://localhost:8080/"
        },
        "id": "s0KwrNreYfXC",
        "outputId": "a03e85be-cf6b-47d5-af95-319e0aa89d57"
      },
      "execution_count": 21,
      "outputs": [
        {
          "output_type": "stream",
          "name": "stdout",
          "text": [
            "Enter string:46788\n",
            "it is not a palindrome!\n"
          ]
        }
      ]
    },
    {
      "cell_type": "code",
      "source": [
        "#lagest between three number\n",
        "a = int(input('Enter first number  : '))\n",
        "b = int(input('Enter second number : '))\n",
        "c = int(input('Enter third number  : '))\n",
        "largest = 0\n",
        "if a > b and a > c :\n",
        "    largest = a\n",
        "elif b > c :\n",
        "    largest = b\n",
        "else :\n",
        "    largest = c\n",
        "print(largest, \"is the largest of three numbers.\")"
      ],
      "metadata": {
        "colab": {
          "base_uri": "https://localhost:8080/"
        },
        "id": "Nf8YnAQ9Z2Tc",
        "outputId": "6395f915-8a48-4183-a00b-1414f4707ef2"
      },
      "execution_count": 22,
      "outputs": [
        {
          "output_type": "stream",
          "name": "stdout",
          "text": [
            "Enter first number  : 45\n",
            "Enter second number : 32\n",
            "Enter third number  : 25\n",
            "45 is the largest of three numbers.\n"
          ]
        }
      ]
    },
    {
      "cell_type": "code",
      "source": [
        "#finf the given number is binary or not\n",
        "string1=str(input(\"enter the 1st number\"))\n",
        "b = {'0','1'}\n",
        "t = set(string1)\n",
        "if b == t or t == {'0'} or t == {'1'}:\n",
        "  print(\"String1 is a binary string.\")\n",
        "else:\n",
        "  print(\"String1 is not a binary string.\")\n",
        "string2 =str(input(\"enter the 2nd number\"))\n",
        "u = set(string2)\n",
        "if b == u or u == {'0'} or u == {'1'}:\n",
        "  print(\"String2 is a binary string.\")\n",
        "else:\n",
        "  print(\"String2 is not a binary string.\")"
      ],
      "metadata": {
        "colab": {
          "base_uri": "https://localhost:8080/"
        },
        "id": "5RZAg4u3a0NE",
        "outputId": "433d2772-b9b4-4395-f632-066562a289ca"
      },
      "execution_count": 25,
      "outputs": [
        {
          "output_type": "stream",
          "name": "stdout",
          "text": [
            "enter the 1st number01011100\n",
            "String1 is a binary string.\n",
            "enter the 2nd number32170\n",
            "String2 is not a binary string.\n"
          ]
        }
      ]
    },
    {
      "cell_type": "code",
      "source": [
        "#find sum of indivisual digits\n",
        "num=int(input(\"enter the number\"))\n",
        "sum=0\n",
        "num1=num\n",
        "while(num>0):\n",
        " rem=num% 10\n",
        " sum=sum+rem\n",
        " num=num//10\n",
        "print(\"sum of digits of the number\",num1,'=',sum)"
      ],
      "metadata": {
        "colab": {
          "base_uri": "https://localhost:8080/"
        },
        "id": "Iggp7lzgcOtv",
        "outputId": "c0751daa-d6e0-4638-e350-13757d33b51a"
      },
      "execution_count": 28,
      "outputs": [
        {
          "output_type": "stream",
          "name": "stdout",
          "text": [
            "enter the number4588\n",
            "sum of digits of the number 4588 = 25\n"
          ]
        }
      ]
    },
    {
      "cell_type": "code",
      "source": [
        "#swap two numbers without using third variable\n",
        "x = int(input(\"Enter the value of x\"))  \n",
        "y = int(input(\"Enter the value of y\"))  \n",
        "print(\"before swapping numbers: %d   %d\\n\" %(x,y))  \n",
        "x = x + y     \n",
        "y = x - y    \n",
        "x = x - y     \n",
        "print(\"After swapping: %d   %d\\n\"%(x,y))  "
      ],
      "metadata": {
        "colab": {
          "base_uri": "https://localhost:8080/"
        },
        "id": "CqhHyMaYerX3",
        "outputId": "dd568f5b-a4b9-46fe-fc56-4a31241ba5be"
      },
      "execution_count": 30,
      "outputs": [
        {
          "output_type": "stream",
          "name": "stdout",
          "text": [
            "Enter the value of x45\n",
            "Enter the value of y34\n",
            "before swapping numbers: 45   34\n",
            "\n",
            "After swapping: 34   45\n",
            "\n"
          ]
        }
      ]
    },
    {
      "cell_type": "code",
      "source": [
        "#swap two numbers usinf third variables\n",
        "num1 = input('Enter value of first number (num1): ')\n",
        "num2 = input('Enter value of second number (num2): ')\n",
        "temp = num1\n",
        "num1 = num2\n",
        "num2 = temp\n",
        "print('The value of num1 after swapping: {}'.format(num1))\n",
        "print('The value of num2 after swapping: {}'.format(num2))"
      ],
      "metadata": {
        "colab": {
          "base_uri": "https://localhost:8080/"
        },
        "id": "TIx6NtvNerR1",
        "outputId": "9650a195-5972-4320-d65d-4548fc7fd29f"
      },
      "execution_count": 31,
      "outputs": [
        {
          "output_type": "stream",
          "name": "stdout",
          "text": [
            "Enter value of first number (num1): 23\n",
            "Enter value of second number (num2): 24\n",
            "The value of num1 after swapping: 24\n",
            "The value of num2 after swapping: 23\n"
          ]
        }
      ]
    },
    {
      "cell_type": "code",
      "source": [
        "#find prime factor of the given integer\n",
        "n=int(input(\"Enter an integer:\"))\n",
        "print(\"Factors are:\")\n",
        "i=1\n",
        "while(i<=n):\n",
        "    k=0\n",
        "    if(n%i==0):\n",
        "        j=1\n",
        "        while(j<=i):\n",
        "            if(i%j==0):\n",
        "                k=k+1\n",
        "            j=j+1\n",
        "        if(k==2):\n",
        "            print(i)\n",
        "    i=i+1\n"
      ],
      "metadata": {
        "colab": {
          "base_uri": "https://localhost:8080/"
        },
        "id": "hTSaRpb8hNGN",
        "outputId": "80c29381-9df1-4946-827f-3ca14a92a66a"
      },
      "execution_count": 34,
      "outputs": [
        {
          "output_type": "stream",
          "name": "stdout",
          "text": [
            "Enter an integer:200\n",
            "Factors are:\n",
            "2\n",
            "5\n"
          ]
        }
      ]
    },
    {
      "cell_type": "code",
      "source": [
        "#add two number without using arithmetic operator\n",
        "def Add(x, y):\n",
        "    while (y != 0):\n",
        "        carry = x & y \n",
        "        x = x ^ y\n",
        "        y = carry << 1\n",
        "    return x\n",
        "print(Add(27,5))"
      ],
      "metadata": {
        "colab": {
          "base_uri": "https://localhost:8080/"
        },
        "id": "WdaMOhEEhkz6",
        "outputId": "2db42ba6-de2c-4845-e8c9-26babc85b466"
      },
      "execution_count": 35,
      "outputs": [
        {
          "output_type": "stream",
          "name": "stdout",
          "text": [
            "32\n"
          ]
        }
      ]
    },
    {
      "cell_type": "code",
      "source": [
        "#find given number is perfect or not\n",
        "n = int(input(\"Enter any number: \"))\n",
        "sum1 = 0\n",
        "for i in range(1, n):\n",
        "    if(n % i == 0):\n",
        "        sum1 = sum1 + i\n",
        "if (sum1 == n):\n",
        "    print(\"The number is a Perfect number!\")\n",
        "else:\n",
        "    print(\"The number is not a Perfect number!\")\n"
      ],
      "metadata": {
        "colab": {
          "base_uri": "https://localhost:8080/"
        },
        "id": "wgeoQwKhiKu7",
        "outputId": "303a294d-570f-4f3b-8d60-d7e67ffde784"
      },
      "execution_count": 39,
      "outputs": [
        {
          "output_type": "stream",
          "name": "stdout",
          "text": [
            "Enter any number: 6\n",
            "The number is a Perfect number!\n"
          ]
        }
      ]
    },
    {
      "cell_type": "code",
      "source": [
        "#program to number pyramid\n",
        "rows=int(input(\"enter the rows\"))\n",
        "for i in range(0,rows+1):\n",
        "  for j in range(i):\n",
        "    print(i,end=\" \")\n",
        "  print()"
      ],
      "metadata": {
        "colab": {
          "base_uri": "https://localhost:8080/"
        },
        "id": "0A0tuNOzBb9W",
        "outputId": "9420dc96-b99b-4822-ea3d-e0498d996a26"
      },
      "execution_count": 2,
      "outputs": [
        {
          "output_type": "stream",
          "name": "stdout",
          "text": [
            "enter the rows5\n",
            "\n",
            "1 \n",
            "2 2 \n",
            "3 3 3 \n",
            "4 4 4 4 \n",
            "5 5 5 5 5 \n"
          ]
        }
      ]
    },
    {
      "cell_type": "code",
      "source": [],
      "metadata": {
        "id": "10eT7MrWMukr"
      },
      "execution_count": null,
      "outputs": []
    },
    {
      "cell_type": "code",
      "source": [
        "rows=int(input(\"enter the rows\"))\n",
        "for i in range(rows, 0, -1):\n",
        "  for j in range(1,i+1):\n",
        "    print(i,end=\" \")\n",
        "  print()"
      ],
      "metadata": {
        "colab": {
          "base_uri": "https://localhost:8080/"
        },
        "id": "lcrFiIhdDf1a",
        "outputId": "f8ad7eb8-a807-46e4-c74a-827e758691b4"
      },
      "execution_count": null,
      "outputs": [
        {
          "output_type": "stream",
          "name": "stdout",
          "text": [
            "enter the rows5\n",
            "5 5 5 5 5 \n",
            "4 4 4 4 \n",
            "3 3 3 \n",
            "2 2 \n",
            "1 \n"
          ]
        }
      ]
    },
    {
      "cell_type": "code",
      "source": [
        "rows=int(input(\"enter number of rows\"))\n",
        "for i in range(0,rows-1):\n",
        "  for j in range(i):\n",
        "    print(i,end=\" \")\n",
        "  print()\n",
        "\n",
        "for i in range(rows,0,-1):\n",
        "  for j in range(1,i+1):\n",
        "    print(i, end=\" \")\n",
        "  print()"
      ],
      "metadata": {
        "colab": {
          "base_uri": "https://localhost:8080/"
        },
        "id": "FykXTFOdJXCP",
        "outputId": "d022af36-07a2-4f11-d47d-024d0805c960"
      },
      "execution_count": null,
      "outputs": [
        {
          "output_type": "stream",
          "name": "stdout",
          "text": [
            "enter number of rows5\n",
            "\n",
            "1 \n",
            "2 2 \n",
            "3 3 3 \n",
            "5 5 5 5 5 \n",
            "4 4 4 4 \n",
            "3 3 3 \n",
            "2 2 \n",
            "1 \n"
          ]
        }
      ]
    },
    {
      "cell_type": "code",
      "source": [
        "rows=int(input(\"enter the rows\"))\n",
        "for i in range(rows):\n",
        "  for j in range(i+1):\n",
        "    print(rows-j,end=\" \")\n",
        "  print()\n",
        "\n",
        "\n",
        "  "
      ],
      "metadata": {
        "id": "-ZF_DQinPigR",
        "colab": {
          "base_uri": "https://localhost:8080/"
        },
        "outputId": "db43bc8a-2960-4963-94b6-d59ec76fc264"
      },
      "execution_count": null,
      "outputs": [
        {
          "output_type": "stream",
          "name": "stdout",
          "text": [
            "enter the rows5\n",
            "5 \n",
            "5 4 \n",
            "5 4 3 \n",
            "5 4 3 2 \n",
            "5 4 3 2 1 \n"
          ]
        }
      ]
    },
    {
      "cell_type": "code",
      "source": [
        "rows =int(input(\"enter the rows\"))\n",
        "for i in range(1, rows):\n",
        "    for j in range(i, 0, -1):\n",
        "        print(j, end=' ')\n",
        "    print(\"\")"
      ],
      "metadata": {
        "colab": {
          "base_uri": "https://localhost:8080/"
        },
        "id": "aa94AcjQiFsT",
        "outputId": "330707dd-7570-4fb8-c4a4-2d7df50dc384"
      },
      "execution_count": null,
      "outputs": [
        {
          "output_type": "stream",
          "name": "stdout",
          "text": [
            "enter the rows6\n",
            "1 \n",
            "2 1 \n",
            "3 2 1 \n",
            "4 3 2 1 \n",
            "5 4 3 2 1 \n"
          ]
        }
      ]
    },
    {
      "cell_type": "code",
      "source": [
        "rows =int(input(\"enter the rows\"))\n",
        "for i in range(0, rows + 1):\n",
        "    for j in range(rows - i, 0, -1):\n",
        "        print(j, end=' ')\n",
        "    print()"
      ],
      "metadata": {
        "colab": {
          "base_uri": "https://localhost:8080/"
        },
        "id": "pqUc571qmNPW",
        "outputId": "fa1237e2-fe08-41b6-af64-c39d0f48ecbf"
      },
      "execution_count": null,
      "outputs": [
        {
          "output_type": "stream",
          "name": "stdout",
          "text": [
            "enter the rows5\n",
            "5 4 3 2 1 \n",
            "4 3 2 1 \n",
            "3 2 1 \n",
            "2 1 \n",
            "1 \n",
            "\n"
          ]
        }
      ]
    },
    {
      "cell_type": "code",
      "source": [
        "rows =int(input(\"enter the rows\"))\n",
        "for i in range(1, rows):\n",
        "    for j in range(i, 0, -1):\n",
        "        print(j, end=' ')\n",
        "    print(\"\")\n",
        "for i in range(0, rows + 1):\n",
        "    for j in range(rows - i, 0, -1):\n",
        "        print(j, end=' ')\n",
        "    print(\"\")\n"
      ],
      "metadata": {
        "colab": {
          "base_uri": "https://localhost:8080/"
        },
        "id": "sN7jJcY2oG41",
        "outputId": "9675fb15-299d-4553-ba15-e1fa58f19dfb"
      },
      "execution_count": null,
      "outputs": [
        {
          "output_type": "stream",
          "name": "stdout",
          "text": [
            "enter the rows5\n",
            "1 \n",
            "2 1 \n",
            "3 2 1 \n",
            "4 3 2 1 \n",
            "5 4 3 2 1 \n",
            "4 3 2 1 \n",
            "3 2 1 \n",
            "2 1 \n",
            "1 \n",
            "\n"
          ]
        }
      ]
    },
    {
      "cell_type": "code",
      "source": [
        "rows = int(input(\"Enter the rows: \"))\n",
        "\n",
        "for i in range(1,rows+1):\n",
        "    for j in range(1, i+1):\n",
        "        print(j%2, end=\"\")\n",
        "    print()"
      ],
      "metadata": {
        "colab": {
          "base_uri": "https://localhost:8080/"
        },
        "id": "NPh9Zyooqx6R",
        "outputId": "f2353444-2cf9-484c-fecb-04caa0d0a396"
      },
      "execution_count": null,
      "outputs": [
        {
          "output_type": "stream",
          "name": "stdout",
          "text": [
            "Enter the rows: 5\n",
            "1\n",
            "10\n",
            "101\n",
            "1010\n",
            "10101\n"
          ]
        }
      ]
    },
    {
      "cell_type": "code",
      "source": [
        "#1,2,3..........n using for loop\n",
        "n=int(input(\"enter n =\"))\n",
        "for i in range(n):\n",
        "  print(i+1,end=' , ')"
      ],
      "metadata": {
        "colab": {
          "base_uri": "https://localhost:8080/"
        },
        "id": "d4dlKdtRrruD",
        "outputId": "851b134c-40d0-4a0b-c97c-31834f990f1a"
      },
      "execution_count": null,
      "outputs": [
        {
          "output_type": "stream",
          "name": "stdout",
          "text": [
            "enter n =10\n",
            "1 , 2 , 3 , 4 , 5 , 6 , 7 , 8 , 9 , 10 , "
          ]
        }
      ]
    },
    {
      "cell_type": "code",
      "source": [
        "n=int(input(\"enter n =\"))\n",
        "i=0\n",
        "while i<=n:\n",
        "  print(i+1,end=' , ')\n",
        "  i=i+1"
      ],
      "metadata": {
        "colab": {
          "base_uri": "https://localhost:8080/"
        },
        "id": "GdqqeOZmvFtz",
        "outputId": "e7931c91-b5b7-484b-ecc3-cea6aa19dfe7"
      },
      "execution_count": null,
      "outputs": [
        {
          "output_type": "stream",
          "name": "stdout",
          "text": [
            "enter n =10\n",
            "1 , 2 , 3 , 4 , 5 , 6 , 7 , 8 , 9 , 10 , 11 , "
          ]
        }
      ]
    }
  ]
}