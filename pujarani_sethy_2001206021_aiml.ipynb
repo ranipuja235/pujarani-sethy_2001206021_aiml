{
  "nbformat": 4,
  "nbformat_minor": 0,
  "metadata": {
    "colab": {
      "provenance": [],
      "authorship_tag": "ABX9TyOHog85l/YPcR2LWZMVbq0X",
      "include_colab_link": true
    },
    "kernelspec": {
      "name": "python3",
      "display_name": "Python 3"
    },
    "language_info": {
      "name": "python"
    }
  },
  "cells": [
    {
      "cell_type": "markdown",
      "metadata": {
        "id": "view-in-github",
        "colab_type": "text"
      },
      "source": [
        "<a href=\"https://colab.research.google.com/github/ranipuja235/pujarani-sethy_2001206021_aiml/blob/main/pujarani_sethy_2001206021_aiml.ipynb\" target=\"_parent\"><img src=\"https://colab.research.google.com/assets/colab-badge.svg\" alt=\"Open In Colab\"/></a>"
      ]
    },
    {
      "cell_type": "code",
      "execution_count": 7,
      "metadata": {
        "colab": {
          "base_uri": "https://localhost:8080/"
        },
        "id": "lWpFvX9W3Tuh",
        "outputId": "061e3aff-96ba-4033-87ec-25ed488d5313"
      },
      "outputs": [
        {
          "output_type": "stream",
          "name": "stdout",
          "text": [
            "reversed number :  4321\n"
          ]
        }
      ],
      "source": [
        "num=1234\n",
        "reversed_num=0\n",
        "while num !=0:\n",
        "  digit=num % 10\n",
        "  reversed_num=reversed_num *10 + digit\n",
        "  num //=10\n",
        "print(\"reversed number :  \" + str(reversed_num))"
      ]
    },
    {
      "cell_type": "markdown",
      "source": [
        "#using Bitwise operator"
      ],
      "metadata": {
        "id": "Y89wv4mj8frO"
      }
    },
    {
      "cell_type": "code",
      "source": [
        "def add(x,y):\n",
        "  while (y != 0):\n",
        "   carry=x & y\n",
        "   x=x^y\n",
        "   y=carry << 1\n",
        "  return x\n",
        "print(add(27,5))"
      ],
      "metadata": {
        "colab": {
          "base_uri": "https://localhost:8080/"
        },
        "id": "ZW9-nGmi8p6q",
        "outputId": "d0808e89-4284-4798-8b2a-b527edb7eb72"
      },
      "execution_count": 9,
      "outputs": [
        {
          "output_type": "stream",
          "name": "stdout",
          "text": [
            "32\n"
          ]
        }
      ]
    },
    {
      "cell_type": "markdown",
      "source": [
        "#using if statement whether number is even or not"
      ],
      "metadata": {
        "id": "C5Tcl1gTAfgm"
      }
    },
    {
      "cell_type": "code",
      "source": [
        "num=int(input(\"enter the number\"))\n",
        "if num % 2==0:\n",
        "  print(\"number is even\")"
      ],
      "metadata": {
        "colab": {
          "base_uri": "https://localhost:8080/"
        },
        "id": "5t0Wb7fbA3wE",
        "outputId": "8bb6849f-ba98-4fe1-8e0d-3e3ac5a513ff"
      },
      "execution_count": 12,
      "outputs": [
        {
          "output_type": "stream",
          "name": "stdout",
          "text": [
            "enter the number10\n",
            "number is even\n"
          ]
        }
      ]
    },
    {
      "cell_type": "markdown",
      "source": [
        "#using if-else statement whether a number is even or not"
      ],
      "metadata": {
        "id": "ji-9Iu4NBtlq"
      }
    },
    {
      "cell_type": "code",
      "source": [
        "num=int(input(\"enter any number to text whether it is odd or even:\"))\n",
        "if(num % 2)==0:\n",
        "  print(\"the number is even\")\n",
        "else:\n",
        "  print(\"the provided number is odd\")"
      ],
      "metadata": {
        "colab": {
          "base_uri": "https://localhost:8080/"
        },
        "id": "uDs19ycDB98n",
        "outputId": "a91e63ef-a88e-47e3-86c0-ad419b762f18"
      },
      "execution_count": 13,
      "outputs": [
        {
          "output_type": "stream",
          "name": "stdout",
          "text": [
            "enter any number to text whether it is odd or even:232\n",
            "the number is even\n"
          ]
        }
      ]
    },
    {
      "cell_type": "markdown",
      "source": [
        "#using nested if find biggest of three numbers\n",
        " "
      ],
      "metadata": {
        "id": "qHlXm-ppDLC5"
      }
    },
    {
      "cell_type": "code",
      "source": [
        "a=5\n",
        "b=10\n",
        "c=15\n",
        "if a>b:\n",
        "  if a>c:\n",
        "    print(\"a value is big\")\n",
        "  else:\n",
        "    print(\"c value is big\")\n",
        "elif b>c:\n",
        "  print(\"b value is big\")\n",
        "else:\n",
        "  print(\"c is big\")"
      ],
      "metadata": {
        "colab": {
          "base_uri": "https://localhost:8080/"
        },
        "id": "M1JnuYl1DgdO",
        "outputId": "f782dc19-c7de-41b3-adfa-bec17ca48cab"
      },
      "execution_count": 14,
      "outputs": [
        {
          "output_type": "stream",
          "name": "stdout",
          "text": [
            "c is big\n"
          ]
        }
      ]
    }
  ]
}